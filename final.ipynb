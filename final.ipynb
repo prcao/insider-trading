{
 "metadata": {
  "language_info": {
   "codemirror_mode": {
    "name": "ipython",
    "version": 3
   },
   "file_extension": ".py",
   "mimetype": "text/x-python",
   "name": "python",
   "nbconvert_exporter": "python",
   "pygments_lexer": "ipython3",
   "version": "3.8.3-final"
  },
  "orig_nbformat": 2,
  "kernelspec": {
   "name": "python3",
   "display_name": "Python 3.8.3 64-bit (conda)",
   "metadata": {
    "interpreter": {
     "hash": "b3ba2566441a7c06988d0923437866b63cedc61552a5af99d1f4fb67d367b25f"
    }
   }
  }
 },
 "nbformat": 4,
 "nbformat_minor": 2,
 "cells": [
  {
   "source": [
    "<h1>Analysis of Senator Stock Trading</h1>\n",
    "\n",
    "Patrick Cao\n",
    "\n",
    "<h2>Introduction</h2>\n",
    "\n",
    "Insider trading, or trading financial assets using information that is not open to the public, is punishable by law in the United States. It is a serious violation -- a maximum penalty of 20 years in prison, and up to $20 million in fines. The Securities and Exchange Commission (SEC) is responsible for identifying and conducting investigations regarding insider trading.\n",
    "\n",
    "With that being said, U.S. senators (and other congresspeople) often have access to information about upcoming policies or laws before the general public, yet are still allowed to trade stocks. More recently, a few senators have been investigated by the SEC for insider trading using knowledge given to them about the COVID-19 pandemic. \n",
    "\n",
    "This tutorial aims to identify potential insider trading, or suspicious trades, by U.S. senators. We will be using data from https://senatestockwatcher.com/, which itself compiles data from https://efdsearch.senate.gov/. Senate stock watcher aggregates financial disclosures from all senators into one nice dataset."
   ],
   "cell_type": "markdown",
   "metadata": {}
  },
  {
   "source": [
    "Let's first start by downloading the dataset. While Senate Stock Watcher provides an API for up to date datasets, we can just download a csv file as well. Download the \"All Transactions\" csv file from https://senatestockwatcher.com/api.html.\n",
    "\n",
    "Let's load that into a pandas dataframe."
   ],
   "cell_type": "markdown",
   "metadata": {}
  },
  {
   "cell_type": "code",
   "execution_count": 127,
   "metadata": {},
   "outputs": [
    {
     "output_type": "execute_result",
     "data": {
      "text/plain": [
       "  transaction_date   owner ticker  \\\n",
       "0       10/13/2020   Joint     --   \n",
       "1       10/09/2020    Self    FTV   \n",
       "2       04/05/2019  Spouse    NVS   \n",
       "3       10/16/2020   Child   NVDA   \n",
       "4       10/16/2020   Child   WDAY   \n",
       "\n",
       "                                   asset_description      asset_type  \\\n",
       "0  XEROX CORP <div class=\"text-muted\"><em>Rate/Co...  Corporate Bond   \n",
       "1  Fortive Corporation (Exchanged) <br> Vontier C...           Stock   \n",
       "2                                        Novartis AG           Stock   \n",
       "3                                 NVIDIA Corporation           Stock   \n",
       "4                                      Workday, Inc.           Stock   \n",
       "\n",
       "          type            amount  \\\n",
       "0  Sale (Full)  $1,001 - $15,000   \n",
       "1     Exchange  $1,001 - $15,000   \n",
       "2  Sale (Full)  $1,001 - $15,000   \n",
       "3     Purchase  $1,001 - $15,000   \n",
       "4     Purchase  $1,001 - $15,000   \n",
       "\n",
       "                                             comment             senator  \\\n",
       "0                                        Called bond  Sheldon Whitehouse   \n",
       "1                                                 --  Sheldon Whitehouse   \n",
       "2                                                 --     William Cassidy   \n",
       "3  Underlying asset of Fidelity Brokerage - Depen...         Ron L Wyden   \n",
       "4  Underlying asset of Fidelity Brokerage - Depen...         Ron L Wyden   \n",
       "\n",
       "                                            ptr_link  \n",
       "0  https://efdsearch.senate.gov/search/view/ptr/d...  \n",
       "1  https://efdsearch.senate.gov/search/view/ptr/d...  \n",
       "2  https://efdsearch.senate.gov/search/view/ptr/7...  \n",
       "3  https://efdsearch.senate.gov/search/view/ptr/4...  \n",
       "4  https://efdsearch.senate.gov/search/view/ptr/4...  "
      ],
      "text/html": "<div>\n<style scoped>\n    .dataframe tbody tr th:only-of-type {\n        vertical-align: middle;\n    }\n\n    .dataframe tbody tr th {\n        vertical-align: top;\n    }\n\n    .dataframe thead th {\n        text-align: right;\n    }\n</style>\n<table border=\"1\" class=\"dataframe\">\n  <thead>\n    <tr style=\"text-align: right;\">\n      <th></th>\n      <th>transaction_date</th>\n      <th>owner</th>\n      <th>ticker</th>\n      <th>asset_description</th>\n      <th>asset_type</th>\n      <th>type</th>\n      <th>amount</th>\n      <th>comment</th>\n      <th>senator</th>\n      <th>ptr_link</th>\n    </tr>\n  </thead>\n  <tbody>\n    <tr>\n      <th>0</th>\n      <td>10/13/2020</td>\n      <td>Joint</td>\n      <td>--</td>\n      <td>XEROX CORP &lt;div class=\"text-muted\"&gt;&lt;em&gt;Rate/Co...</td>\n      <td>Corporate Bond</td>\n      <td>Sale (Full)</td>\n      <td>$1,001 - $15,000</td>\n      <td>Called bond</td>\n      <td>Sheldon Whitehouse</td>\n      <td>https://efdsearch.senate.gov/search/view/ptr/d...</td>\n    </tr>\n    <tr>\n      <th>1</th>\n      <td>10/09/2020</td>\n      <td>Self</td>\n      <td>FTV</td>\n      <td>Fortive Corporation (Exchanged) &lt;br&gt; Vontier C...</td>\n      <td>Stock</td>\n      <td>Exchange</td>\n      <td>$1,001 - $15,000</td>\n      <td>--</td>\n      <td>Sheldon Whitehouse</td>\n      <td>https://efdsearch.senate.gov/search/view/ptr/d...</td>\n    </tr>\n    <tr>\n      <th>2</th>\n      <td>04/05/2019</td>\n      <td>Spouse</td>\n      <td>NVS</td>\n      <td>Novartis AG</td>\n      <td>Stock</td>\n      <td>Sale (Full)</td>\n      <td>$1,001 - $15,000</td>\n      <td>--</td>\n      <td>William Cassidy</td>\n      <td>https://efdsearch.senate.gov/search/view/ptr/7...</td>\n    </tr>\n    <tr>\n      <th>3</th>\n      <td>10/16/2020</td>\n      <td>Child</td>\n      <td>NVDA</td>\n      <td>NVIDIA Corporation</td>\n      <td>Stock</td>\n      <td>Purchase</td>\n      <td>$1,001 - $15,000</td>\n      <td>Underlying asset of Fidelity Brokerage - Depen...</td>\n      <td>Ron L Wyden</td>\n      <td>https://efdsearch.senate.gov/search/view/ptr/4...</td>\n    </tr>\n    <tr>\n      <th>4</th>\n      <td>10/16/2020</td>\n      <td>Child</td>\n      <td>WDAY</td>\n      <td>Workday, Inc.</td>\n      <td>Stock</td>\n      <td>Purchase</td>\n      <td>$1,001 - $15,000</td>\n      <td>Underlying asset of Fidelity Brokerage - Depen...</td>\n      <td>Ron L Wyden</td>\n      <td>https://efdsearch.senate.gov/search/view/ptr/4...</td>\n    </tr>\n  </tbody>\n</table>\n</div>"
     },
     "metadata": {},
     "execution_count": 127
    }
   ],
   "source": [
    "import pandas as pd\n",
    "import numpy as np\n",
    "\n",
    "df = pd.read_csv('all_transactions.csv')\n",
    "df.head()"
   ]
  },
  {
   "source": [
    "Let's limit this to stocks only, purchases and exchanges only."
   ],
   "cell_type": "markdown",
   "metadata": {}
  },
  {
   "source": [
    "df = df[df['asset_type'] == 'Stock']\n",
    "\n",
    "# Turn transaction_date into datetime\n",
    "df['transaction_date'] = pd.to_datetime(df['transaction_date'])\n",
    "\n",
    "# Remove (Full) and (Partial) after Sale type\n",
    "df['type'] = df['type'].apply(lambda x: x.split()[0])\n",
    "\n",
    "# Limit to only purchases and sales\n",
    "df = df[(df['type'] == 'Purchase') | (df['type'] == 'Sale')]\n",
    "df.head()"
   ],
   "cell_type": "code",
   "metadata": {},
   "execution_count": 128,
   "outputs": [
    {
     "output_type": "execute_result",
     "data": {
      "text/plain": [
       "  transaction_date   owner ticker   asset_description asset_type      type  \\\n",
       "2       2019-04-05  Spouse    NVS         Novartis AG      Stock      Sale   \n",
       "3       2020-10-16   Child   NVDA  NVIDIA Corporation      Stock  Purchase   \n",
       "4       2020-10-16   Child   WDAY       Workday, Inc.      Stock  Purchase   \n",
       "5       2020-10-16   Child   NVDA  NVIDIA Corporation      Stock  Purchase   \n",
       "6       2020-10-16   Child   WDAY       Workday, Inc.      Stock  Purchase   \n",
       "\n",
       "             amount                                            comment  \\\n",
       "2  $1,001 - $15,000                                                 --   \n",
       "3  $1,001 - $15,000  Underlying asset of Fidelity Brokerage - Depen...   \n",
       "4  $1,001 - $15,000  Underlying asset of Fidelity Brokerage - Depen...   \n",
       "5  $1,001 - $15,000  Underlying asset of Fidelity Brokerage - Depen...   \n",
       "6  $1,001 - $15,000  Underlying asset of Fidelity Brokerage - Depen...   \n",
       "\n",
       "           senator                                           ptr_link  \n",
       "2  William Cassidy  https://efdsearch.senate.gov/search/view/ptr/7...  \n",
       "3      Ron L Wyden  https://efdsearch.senate.gov/search/view/ptr/4...  \n",
       "4      Ron L Wyden  https://efdsearch.senate.gov/search/view/ptr/4...  \n",
       "5      Ron L Wyden  https://efdsearch.senate.gov/search/view/ptr/4...  \n",
       "6      Ron L Wyden  https://efdsearch.senate.gov/search/view/ptr/4...  "
      ],
      "text/html": "<div>\n<style scoped>\n    .dataframe tbody tr th:only-of-type {\n        vertical-align: middle;\n    }\n\n    .dataframe tbody tr th {\n        vertical-align: top;\n    }\n\n    .dataframe thead th {\n        text-align: right;\n    }\n</style>\n<table border=\"1\" class=\"dataframe\">\n  <thead>\n    <tr style=\"text-align: right;\">\n      <th></th>\n      <th>transaction_date</th>\n      <th>owner</th>\n      <th>ticker</th>\n      <th>asset_description</th>\n      <th>asset_type</th>\n      <th>type</th>\n      <th>amount</th>\n      <th>comment</th>\n      <th>senator</th>\n      <th>ptr_link</th>\n    </tr>\n  </thead>\n  <tbody>\n    <tr>\n      <th>2</th>\n      <td>2019-04-05</td>\n      <td>Spouse</td>\n      <td>NVS</td>\n      <td>Novartis AG</td>\n      <td>Stock</td>\n      <td>Sale</td>\n      <td>$1,001 - $15,000</td>\n      <td>--</td>\n      <td>William Cassidy</td>\n      <td>https://efdsearch.senate.gov/search/view/ptr/7...</td>\n    </tr>\n    <tr>\n      <th>3</th>\n      <td>2020-10-16</td>\n      <td>Child</td>\n      <td>NVDA</td>\n      <td>NVIDIA Corporation</td>\n      <td>Stock</td>\n      <td>Purchase</td>\n      <td>$1,001 - $15,000</td>\n      <td>Underlying asset of Fidelity Brokerage - Depen...</td>\n      <td>Ron L Wyden</td>\n      <td>https://efdsearch.senate.gov/search/view/ptr/4...</td>\n    </tr>\n    <tr>\n      <th>4</th>\n      <td>2020-10-16</td>\n      <td>Child</td>\n      <td>WDAY</td>\n      <td>Workday, Inc.</td>\n      <td>Stock</td>\n      <td>Purchase</td>\n      <td>$1,001 - $15,000</td>\n      <td>Underlying asset of Fidelity Brokerage - Depen...</td>\n      <td>Ron L Wyden</td>\n      <td>https://efdsearch.senate.gov/search/view/ptr/4...</td>\n    </tr>\n    <tr>\n      <th>5</th>\n      <td>2020-10-16</td>\n      <td>Child</td>\n      <td>NVDA</td>\n      <td>NVIDIA Corporation</td>\n      <td>Stock</td>\n      <td>Purchase</td>\n      <td>$1,001 - $15,000</td>\n      <td>Underlying asset of Fidelity Brokerage - Depen...</td>\n      <td>Ron L Wyden</td>\n      <td>https://efdsearch.senate.gov/search/view/ptr/4...</td>\n    </tr>\n    <tr>\n      <th>6</th>\n      <td>2020-10-16</td>\n      <td>Child</td>\n      <td>WDAY</td>\n      <td>Workday, Inc.</td>\n      <td>Stock</td>\n      <td>Purchase</td>\n      <td>$1,001 - $15,000</td>\n      <td>Underlying asset of Fidelity Brokerage - Depen...</td>\n      <td>Ron L Wyden</td>\n      <td>https://efdsearch.senate.gov/search/view/ptr/4...</td>\n    </tr>\n  </tbody>\n</table>\n</div>"
     },
     "metadata": {},
     "execution_count": 128
    }
   ]
  },
  {
   "source": [
    "We got our senator stock trading data, but now we need actual historical market data to visualize these trades. Let's use yfinance, a python Yahoo! Finance library, to get historical market data on SPY, an ETF tracking the S&P500."
   ],
   "cell_type": "markdown",
   "metadata": {}
  },
  {
   "cell_type": "code",
   "execution_count": 129,
   "metadata": {},
   "outputs": [
    {
     "output_type": "execute_result",
     "data": {
      "text/plain": [
       "                  Open        High         Low       Close    Volume  \\\n",
       "Date                                                                   \n",
       "2020-11-20  357.500000  357.720001  355.250000  355.329987  70417300   \n",
       "2020-11-23  357.279999  358.820007  354.869995  357.459991  63230600   \n",
       "2020-11-24  360.209991  363.809998  359.290009  363.220001  62415900   \n",
       "2020-11-25  363.130005  363.160004  361.480011  362.660004  45330900   \n",
       "2020-11-27  363.839996  364.179993  362.579987  363.670013  28514100   \n",
       "\n",
       "            Dividends  Stock Splits  \n",
       "Date                                 \n",
       "2020-11-20        0.0             0  \n",
       "2020-11-23        0.0             0  \n",
       "2020-11-24        0.0             0  \n",
       "2020-11-25        0.0             0  \n",
       "2020-11-27        0.0             0  "
      ],
      "text/html": "<div>\n<style scoped>\n    .dataframe tbody tr th:only-of-type {\n        vertical-align: middle;\n    }\n\n    .dataframe tbody tr th {\n        vertical-align: top;\n    }\n\n    .dataframe thead th {\n        text-align: right;\n    }\n</style>\n<table border=\"1\" class=\"dataframe\">\n  <thead>\n    <tr style=\"text-align: right;\">\n      <th></th>\n      <th>Open</th>\n      <th>High</th>\n      <th>Low</th>\n      <th>Close</th>\n      <th>Volume</th>\n      <th>Dividends</th>\n      <th>Stock Splits</th>\n    </tr>\n    <tr>\n      <th>Date</th>\n      <th></th>\n      <th></th>\n      <th></th>\n      <th></th>\n      <th></th>\n      <th></th>\n      <th></th>\n    </tr>\n  </thead>\n  <tbody>\n    <tr>\n      <th>2020-11-20</th>\n      <td>357.500000</td>\n      <td>357.720001</td>\n      <td>355.250000</td>\n      <td>355.329987</td>\n      <td>70417300</td>\n      <td>0.0</td>\n      <td>0</td>\n    </tr>\n    <tr>\n      <th>2020-11-23</th>\n      <td>357.279999</td>\n      <td>358.820007</td>\n      <td>354.869995</td>\n      <td>357.459991</td>\n      <td>63230600</td>\n      <td>0.0</td>\n      <td>0</td>\n    </tr>\n    <tr>\n      <th>2020-11-24</th>\n      <td>360.209991</td>\n      <td>363.809998</td>\n      <td>359.290009</td>\n      <td>363.220001</td>\n      <td>62415900</td>\n      <td>0.0</td>\n      <td>0</td>\n    </tr>\n    <tr>\n      <th>2020-11-25</th>\n      <td>363.130005</td>\n      <td>363.160004</td>\n      <td>361.480011</td>\n      <td>362.660004</td>\n      <td>45330900</td>\n      <td>0.0</td>\n      <td>0</td>\n    </tr>\n    <tr>\n      <th>2020-11-27</th>\n      <td>363.839996</td>\n      <td>364.179993</td>\n      <td>362.579987</td>\n      <td>363.670013</td>\n      <td>28514100</td>\n      <td>0.0</td>\n      <td>0</td>\n    </tr>\n  </tbody>\n</table>\n</div>"
     },
     "metadata": {},
     "execution_count": 129
    }
   ],
   "source": [
    "import yfinance as yf\n",
    "\n",
    "spy = yf.Ticker('SPY')\n",
    "spy_hist = spy.history(period='max')\n",
    "spy_hist.tail()"
   ]
  },
  {
   "source": [
    "Neat! Now we can start putting these two things together."
   ],
   "cell_type": "markdown",
   "metadata": {}
  },
  {
   "source": [
    "<h2>Data Processing and Visualization</h2>\n",
    "\n",
    "Let's first aggregate all the senator trading data together, and find the overall trading performance of the senate. We should somehow plot overall senator trading performance against the S&P500.\n",
    "\n",
    "<h3>Senator Data</h3>\n",
    "\n",
    "It's a little tough to track performance exactly. The size of each trade isn't an exact number -- it's a range. Let's check out what kinds of values we're working with here."
   ],
   "cell_type": "markdown",
   "metadata": {}
  },
  {
   "cell_type": "code",
   "execution_count": 130,
   "metadata": {},
   "outputs": [
    {
     "output_type": "execute_result",
     "data": {
      "text/plain": [
       "array(['$1,001 - $15,000', '$15,001 - $50,000', '$50,001 - $100,000',\n",
       "       '$100,001 - $250,000', '$5,000,001 - $25,000,000',\n",
       "       '$1,000,001 - $5,000,000', '$250,001 - $500,000',\n",
       "       '$500,001 - $1,000,000', 'Over $50,000,000',\n",
       "       '$25,000,001 - $50,000,000'], dtype=object)"
      ]
     },
     "metadata": {},
     "execution_count": 130
    }
   ],
   "source": [
    "df['amount'].unique()"
   ]
  },
  {
   "source": [
    "Yikes. The data is not very granular, but the best thing we can probably do is get the lower bound, upper bound, and middle value of each trade."
   ],
   "cell_type": "markdown",
   "metadata": {}
  },
  {
   "source": [
    "# Returns a tuple of [lower bound, middle, upper bound] for the given category\n",
    "def getBounds(amount):\n",
    "    \n",
    "    # This amount shows up once in the entire dataset. Let's just assume the trade is $50m for now. It won't affect our analysis too much.\n",
    "    if amount == 'Over $50,000,000':\n",
    "        return (5e7, 5e7, 5e7)\n",
    "    \n",
    "    split = amount.split(' - ')\n",
    "    lower = int(split[0][1:].replace(',', ''))\n",
    "    upper = int(split[1][1:].replace(',', ''))\n",
    "    mid = lower + ((upper - lower) / 2)\n",
    "\n",
    "    return [lower, mid, upper]\n",
    "\n",
    "bounds = pd.Series(df['amount'].apply(getBounds))\n",
    "\n",
    "df['lower_amt'] = bounds.apply(lambda x: x[0])\n",
    "df['mid_amt'] = bounds.apply(lambda x: x[1])\n",
    "df['upper_amt'] = bounds.apply(lambda x: x[2])\n",
    "\n",
    "df"
   ],
   "cell_type": "code",
   "metadata": {},
   "execution_count": 139,
   "outputs": [
    {
     "output_type": "execute_result",
     "data": {
      "text/plain": [
       "     transaction_date   owner ticker  \\\n",
       "2          2019-04-05  Spouse    NVS   \n",
       "3          2020-10-16   Child   NVDA   \n",
       "4          2020-10-16   Child   WDAY   \n",
       "5          2020-10-16   Child   NVDA   \n",
       "6          2020-10-16   Child   WDAY   \n",
       "...               ...     ...    ...   \n",
       "8685       2014-12-11  Spouse  DVFAX   \n",
       "8690       2014-12-12  Spouse    XOM   \n",
       "8691       2014-12-19  Spouse     BA   \n",
       "8692       2014-12-12  Spouse    BAC   \n",
       "8693       2014-12-11  Spouse    MIK   \n",
       "\n",
       "                                 asset_description asset_type      type  \\\n",
       "2                                      Novartis AG      Stock      Sale   \n",
       "3                               NVIDIA Corporation      Stock  Purchase   \n",
       "4                                    Workday, Inc.      Stock  Purchase   \n",
       "5                               NVIDIA Corporation      Stock  Purchase   \n",
       "6                                    Workday, Inc.      Stock  Purchase   \n",
       "...                                            ...        ...       ...   \n",
       "8685  Cohen &amp; Steers Dividend Value A (NASDAQ)      Stock  Purchase   \n",
       "8690                Exxon Mobil Corporation (NYSE)      Stock      Sale   \n",
       "8691                     The Boeing Company (NYSE)      Stock  Purchase   \n",
       "8692            Bank of America Corporation (NYSE)      Stock      Sale   \n",
       "8693         The Michaels Companies, Inc. (NASDAQ)      Stock  Purchase   \n",
       "\n",
       "                amount                                            comment  \\\n",
       "2     $1,001 - $15,000                                                 --   \n",
       "3     $1,001 - $15,000  Underlying asset of Fidelity Brokerage - Depen...   \n",
       "4     $1,001 - $15,000  Underlying asset of Fidelity Brokerage - Depen...   \n",
       "5     $1,001 - $15,000  Underlying asset of Fidelity Brokerage - Depen...   \n",
       "6     $1,001 - $15,000  Underlying asset of Fidelity Brokerage - Depen...   \n",
       "...                ...                                                ...   \n",
       "8685  $1,001 - $15,000                                                 --   \n",
       "8690  $1,001 - $15,000                                                Sep   \n",
       "8691  $1,001 - $15,000                                                  R   \n",
       "8692  $1,001 - $15,000                                                  R   \n",
       "8693  $1,001 - $15,000                                                  R   \n",
       "\n",
       "              senator                                           ptr_link  \\\n",
       "2     William Cassidy  https://efdsearch.senate.gov/search/view/ptr/7...   \n",
       "3         Ron L Wyden  https://efdsearch.senate.gov/search/view/ptr/4...   \n",
       "4         Ron L Wyden  https://efdsearch.senate.gov/search/view/ptr/4...   \n",
       "5         Ron L Wyden  https://efdsearch.senate.gov/search/view/ptr/4...   \n",
       "6         Ron L Wyden  https://efdsearch.senate.gov/search/view/ptr/4...   \n",
       "...               ...                                                ...   \n",
       "8685  Susan M Collins  https://efdsearch.senate.gov/search/view/ptr/d...   \n",
       "8690      Pat Roberts  https://efdsearch.senate.gov/search/view/ptr/f...   \n",
       "8691      Pat Roberts  https://efdsearch.senate.gov/search/view/ptr/f...   \n",
       "8692      Pat Roberts  https://efdsearch.senate.gov/search/view/ptr/f...   \n",
       "8693      Pat Roberts  https://efdsearch.senate.gov/search/view/ptr/f...   \n",
       "\n",
       "      lower_amt  \n",
       "2        1001.0  \n",
       "3        1001.0  \n",
       "4        1001.0  \n",
       "5        1001.0  \n",
       "6        1001.0  \n",
       "...         ...  \n",
       "8685     1001.0  \n",
       "8690     1001.0  \n",
       "8691     1001.0  \n",
       "8692     1001.0  \n",
       "8693     1001.0  \n",
       "\n",
       "[7249 rows x 11 columns]"
      ],
      "text/html": "<div>\n<style scoped>\n    .dataframe tbody tr th:only-of-type {\n        vertical-align: middle;\n    }\n\n    .dataframe tbody tr th {\n        vertical-align: top;\n    }\n\n    .dataframe thead th {\n        text-align: right;\n    }\n</style>\n<table border=\"1\" class=\"dataframe\">\n  <thead>\n    <tr style=\"text-align: right;\">\n      <th></th>\n      <th>transaction_date</th>\n      <th>owner</th>\n      <th>ticker</th>\n      <th>asset_description</th>\n      <th>asset_type</th>\n      <th>type</th>\n      <th>amount</th>\n      <th>comment</th>\n      <th>senator</th>\n      <th>ptr_link</th>\n      <th>lower_amt</th>\n    </tr>\n  </thead>\n  <tbody>\n    <tr>\n      <th>2</th>\n      <td>2019-04-05</td>\n      <td>Spouse</td>\n      <td>NVS</td>\n      <td>Novartis AG</td>\n      <td>Stock</td>\n      <td>Sale</td>\n      <td>$1,001 - $15,000</td>\n      <td>--</td>\n      <td>William Cassidy</td>\n      <td>https://efdsearch.senate.gov/search/view/ptr/7...</td>\n      <td>1001.0</td>\n    </tr>\n    <tr>\n      <th>3</th>\n      <td>2020-10-16</td>\n      <td>Child</td>\n      <td>NVDA</td>\n      <td>NVIDIA Corporation</td>\n      <td>Stock</td>\n      <td>Purchase</td>\n      <td>$1,001 - $15,000</td>\n      <td>Underlying asset of Fidelity Brokerage - Depen...</td>\n      <td>Ron L Wyden</td>\n      <td>https://efdsearch.senate.gov/search/view/ptr/4...</td>\n      <td>1001.0</td>\n    </tr>\n    <tr>\n      <th>4</th>\n      <td>2020-10-16</td>\n      <td>Child</td>\n      <td>WDAY</td>\n      <td>Workday, Inc.</td>\n      <td>Stock</td>\n      <td>Purchase</td>\n      <td>$1,001 - $15,000</td>\n      <td>Underlying asset of Fidelity Brokerage - Depen...</td>\n      <td>Ron L Wyden</td>\n      <td>https://efdsearch.senate.gov/search/view/ptr/4...</td>\n      <td>1001.0</td>\n    </tr>\n    <tr>\n      <th>5</th>\n      <td>2020-10-16</td>\n      <td>Child</td>\n      <td>NVDA</td>\n      <td>NVIDIA Corporation</td>\n      <td>Stock</td>\n      <td>Purchase</td>\n      <td>$1,001 - $15,000</td>\n      <td>Underlying asset of Fidelity Brokerage - Depen...</td>\n      <td>Ron L Wyden</td>\n      <td>https://efdsearch.senate.gov/search/view/ptr/4...</td>\n      <td>1001.0</td>\n    </tr>\n    <tr>\n      <th>6</th>\n      <td>2020-10-16</td>\n      <td>Child</td>\n      <td>WDAY</td>\n      <td>Workday, Inc.</td>\n      <td>Stock</td>\n      <td>Purchase</td>\n      <td>$1,001 - $15,000</td>\n      <td>Underlying asset of Fidelity Brokerage - Depen...</td>\n      <td>Ron L Wyden</td>\n      <td>https://efdsearch.senate.gov/search/view/ptr/4...</td>\n      <td>1001.0</td>\n    </tr>\n    <tr>\n      <th>...</th>\n      <td>...</td>\n      <td>...</td>\n      <td>...</td>\n      <td>...</td>\n      <td>...</td>\n      <td>...</td>\n      <td>...</td>\n      <td>...</td>\n      <td>...</td>\n      <td>...</td>\n      <td>...</td>\n    </tr>\n    <tr>\n      <th>8685</th>\n      <td>2014-12-11</td>\n      <td>Spouse</td>\n      <td>DVFAX</td>\n      <td>Cohen &amp;amp; Steers Dividend Value A (NASDAQ)</td>\n      <td>Stock</td>\n      <td>Purchase</td>\n      <td>$1,001 - $15,000</td>\n      <td>--</td>\n      <td>Susan M Collins</td>\n      <td>https://efdsearch.senate.gov/search/view/ptr/d...</td>\n      <td>1001.0</td>\n    </tr>\n    <tr>\n      <th>8690</th>\n      <td>2014-12-12</td>\n      <td>Spouse</td>\n      <td>XOM</td>\n      <td>Exxon Mobil Corporation (NYSE)</td>\n      <td>Stock</td>\n      <td>Sale</td>\n      <td>$1,001 - $15,000</td>\n      <td>Sep</td>\n      <td>Pat Roberts</td>\n      <td>https://efdsearch.senate.gov/search/view/ptr/f...</td>\n      <td>1001.0</td>\n    </tr>\n    <tr>\n      <th>8691</th>\n      <td>2014-12-19</td>\n      <td>Spouse</td>\n      <td>BA</td>\n      <td>The Boeing Company (NYSE)</td>\n      <td>Stock</td>\n      <td>Purchase</td>\n      <td>$1,001 - $15,000</td>\n      <td>R</td>\n      <td>Pat Roberts</td>\n      <td>https://efdsearch.senate.gov/search/view/ptr/f...</td>\n      <td>1001.0</td>\n    </tr>\n    <tr>\n      <th>8692</th>\n      <td>2014-12-12</td>\n      <td>Spouse</td>\n      <td>BAC</td>\n      <td>Bank of America Corporation (NYSE)</td>\n      <td>Stock</td>\n      <td>Sale</td>\n      <td>$1,001 - $15,000</td>\n      <td>R</td>\n      <td>Pat Roberts</td>\n      <td>https://efdsearch.senate.gov/search/view/ptr/f...</td>\n      <td>1001.0</td>\n    </tr>\n    <tr>\n      <th>8693</th>\n      <td>2014-12-11</td>\n      <td>Spouse</td>\n      <td>MIK</td>\n      <td>The Michaels Companies, Inc. (NASDAQ)</td>\n      <td>Stock</td>\n      <td>Purchase</td>\n      <td>$1,001 - $15,000</td>\n      <td>R</td>\n      <td>Pat Roberts</td>\n      <td>https://efdsearch.senate.gov/search/view/ptr/f...</td>\n      <td>1001.0</td>\n    </tr>\n  </tbody>\n</table>\n<p>7249 rows × 11 columns</p>\n</div>"
     },
     "metadata": {},
     "execution_count": 139
    }
   ]
  },
  {
   "source": [
    "Alright, now we got some rough numerical bounds of each transaction, we can group trades together by date and find the aggregate for each day."
   ],
   "cell_type": "markdown",
   "metadata": {}
  },
  {
   "cell_type": "code",
   "execution_count": 106,
   "metadata": {},
   "outputs": [
    {
     "output_type": "error",
     "ename": "DataError",
     "evalue": "No numeric types to aggregate",
     "traceback": [
      "\u001b[1;31m---------------------------------------------------------------------------\u001b[0m",
      "\u001b[1;31mDataError\u001b[0m                                 Traceback (most recent call last)",
      "\u001b[1;32m<ipython-input-106-a80dd8323911>\u001b[0m in \u001b[0;36m<module>\u001b[1;34m\u001b[0m\n\u001b[1;32m----> 1\u001b[1;33m \u001b[0mdf\u001b[0m\u001b[1;33m.\u001b[0m\u001b[0mgroupby\u001b[0m\u001b[1;33m(\u001b[0m\u001b[1;33m[\u001b[0m\u001b[1;34m'transaction_date'\u001b[0m\u001b[1;33m,\u001b[0m \u001b[1;34m'type'\u001b[0m\u001b[1;33m]\u001b[0m\u001b[1;33m)\u001b[0m\u001b[1;33m.\u001b[0m\u001b[0mmean\u001b[0m\u001b[1;33m(\u001b[0m\u001b[1;33m)\u001b[0m\u001b[1;33m\u001b[0m\u001b[1;33m\u001b[0m\u001b[0m\n\u001b[0m",
      "\u001b[1;32mC:\\ProgramData\\Anaconda3\\lib\\site-packages\\pandas\\core\\groupby\\groupby.py\u001b[0m in \u001b[0;36mmean\u001b[1;34m(self, *args, **kwargs)\u001b[0m\n\u001b[0;32m   1223\u001b[0m         \"\"\"\n\u001b[0;32m   1224\u001b[0m         \u001b[0mnv\u001b[0m\u001b[1;33m.\u001b[0m\u001b[0mvalidate_groupby_func\u001b[0m\u001b[1;33m(\u001b[0m\u001b[1;34m\"mean\"\u001b[0m\u001b[1;33m,\u001b[0m \u001b[0margs\u001b[0m\u001b[1;33m,\u001b[0m \u001b[0mkwargs\u001b[0m\u001b[1;33m,\u001b[0m \u001b[1;33m[\u001b[0m\u001b[1;34m\"numeric_only\"\u001b[0m\u001b[1;33m]\u001b[0m\u001b[1;33m)\u001b[0m\u001b[1;33m\u001b[0m\u001b[1;33m\u001b[0m\u001b[0m\n\u001b[1;32m-> 1225\u001b[1;33m         return self._cython_agg_general(\n\u001b[0m\u001b[0;32m   1226\u001b[0m             \u001b[1;34m\"mean\"\u001b[0m\u001b[1;33m,\u001b[0m \u001b[0malt\u001b[0m\u001b[1;33m=\u001b[0m\u001b[1;32mlambda\u001b[0m \u001b[0mx\u001b[0m\u001b[1;33m,\u001b[0m \u001b[0maxis\u001b[0m\u001b[1;33m:\u001b[0m \u001b[0mSeries\u001b[0m\u001b[1;33m(\u001b[0m\u001b[0mx\u001b[0m\u001b[1;33m)\u001b[0m\u001b[1;33m.\u001b[0m\u001b[0mmean\u001b[0m\u001b[1;33m(\u001b[0m\u001b[1;33m**\u001b[0m\u001b[0mkwargs\u001b[0m\u001b[1;33m)\u001b[0m\u001b[1;33m,\u001b[0m \u001b[1;33m**\u001b[0m\u001b[0mkwargs\u001b[0m\u001b[1;33m\u001b[0m\u001b[1;33m\u001b[0m\u001b[0m\n\u001b[0;32m   1227\u001b[0m         )\n",
      "\u001b[1;32mC:\\ProgramData\\Anaconda3\\lib\\site-packages\\pandas\\core\\groupby\\generic.py\u001b[0m in \u001b[0;36m_cython_agg_general\u001b[1;34m(self, how, alt, numeric_only, min_count)\u001b[0m\n\u001b[0;32m    991\u001b[0m         \u001b[0mself\u001b[0m\u001b[1;33m,\u001b[0m \u001b[0mhow\u001b[0m\u001b[1;33m:\u001b[0m \u001b[0mstr\u001b[0m\u001b[1;33m,\u001b[0m \u001b[0malt\u001b[0m\u001b[1;33m=\u001b[0m\u001b[1;32mNone\u001b[0m\u001b[1;33m,\u001b[0m \u001b[0mnumeric_only\u001b[0m\u001b[1;33m:\u001b[0m \u001b[0mbool\u001b[0m \u001b[1;33m=\u001b[0m \u001b[1;32mTrue\u001b[0m\u001b[1;33m,\u001b[0m \u001b[0mmin_count\u001b[0m\u001b[1;33m:\u001b[0m \u001b[0mint\u001b[0m \u001b[1;33m=\u001b[0m \u001b[1;33m-\u001b[0m\u001b[1;36m1\u001b[0m\u001b[1;33m\u001b[0m\u001b[1;33m\u001b[0m\u001b[0m\n\u001b[0;32m    992\u001b[0m     ) -> DataFrame:\n\u001b[1;32m--> 993\u001b[1;33m         agg_blocks, agg_items = self._cython_agg_blocks(\n\u001b[0m\u001b[0;32m    994\u001b[0m             \u001b[0mhow\u001b[0m\u001b[1;33m,\u001b[0m \u001b[0malt\u001b[0m\u001b[1;33m=\u001b[0m\u001b[0malt\u001b[0m\u001b[1;33m,\u001b[0m \u001b[0mnumeric_only\u001b[0m\u001b[1;33m=\u001b[0m\u001b[0mnumeric_only\u001b[0m\u001b[1;33m,\u001b[0m \u001b[0mmin_count\u001b[0m\u001b[1;33m=\u001b[0m\u001b[0mmin_count\u001b[0m\u001b[1;33m\u001b[0m\u001b[1;33m\u001b[0m\u001b[0m\n\u001b[0;32m    995\u001b[0m         )\n",
      "\u001b[1;32mC:\\ProgramData\\Anaconda3\\lib\\site-packages\\pandas\\core\\groupby\\generic.py\u001b[0m in \u001b[0;36m_cython_agg_blocks\u001b[1;34m(self, how, alt, numeric_only, min_count)\u001b[0m\n\u001b[0;32m   1093\u001b[0m \u001b[1;33m\u001b[0m\u001b[0m\n\u001b[0;32m   1094\u001b[0m         \u001b[1;32mif\u001b[0m \u001b[1;32mnot\u001b[0m \u001b[1;33m(\u001b[0m\u001b[0magg_blocks\u001b[0m \u001b[1;32mor\u001b[0m \u001b[0msplit_frames\u001b[0m\u001b[1;33m)\u001b[0m\u001b[1;33m:\u001b[0m\u001b[1;33m\u001b[0m\u001b[1;33m\u001b[0m\u001b[0m\n\u001b[1;32m-> 1095\u001b[1;33m             \u001b[1;32mraise\u001b[0m \u001b[0mDataError\u001b[0m\u001b[1;33m(\u001b[0m\u001b[1;34m\"No numeric types to aggregate\"\u001b[0m\u001b[1;33m)\u001b[0m\u001b[1;33m\u001b[0m\u001b[1;33m\u001b[0m\u001b[0m\n\u001b[0m\u001b[0;32m   1096\u001b[0m \u001b[1;33m\u001b[0m\u001b[0m\n\u001b[0;32m   1097\u001b[0m         \u001b[1;32mif\u001b[0m \u001b[0msplit_items\u001b[0m\u001b[1;33m:\u001b[0m\u001b[1;33m\u001b[0m\u001b[1;33m\u001b[0m\u001b[0m\n",
      "\u001b[1;31mDataError\u001b[0m: No numeric types to aggregate"
     ]
    }
   ],
   "source": [
    "df.groupby(['transaction_date', 'type']).mean()"
   ]
  },
  {
   "source": [],
   "cell_type": "markdown",
   "metadata": {}
  }
 ]
}