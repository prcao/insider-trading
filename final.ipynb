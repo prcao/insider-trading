{
 "metadata": {
  "language_info": {
   "codemirror_mode": {
    "name": "ipython",
    "version": 3
   },
   "file_extension": ".py",
   "mimetype": "text/x-python",
   "name": "python",
   "nbconvert_exporter": "python",
   "pygments_lexer": "ipython3",
   "version": "3.8.3-final"
  },
  "orig_nbformat": 2,
  "kernelspec": {
   "name": "python3",
   "display_name": "Python 3.8.3 64-bit (conda)",
   "metadata": {
    "interpreter": {
     "hash": "b3ba2566441a7c06988d0923437866b63cedc61552a5af99d1f4fb67d367b25f"
    }
   }
  }
 },
 "nbformat": 4,
 "nbformat_minor": 2,
 "cells": [
  {
   "source": [
    "<h1>Analysis of Senator Stock Trading</h1>\n",
    "\n",
    "Patrick Cao\n",
    "\n",
    "<h2>Introduction</h2>\n",
    "\n",
    "Insider trading, or trading financial assets using information that is not open to the public, is punishable by law in the United States. It is a serious violation -- a maximum penalty of 20 years in prison, and up to $20 million in fines. The Securities and Exchange Commission (SEC) is responsible for identifying and conducting investigations regarding insider trading.\n",
    "\n",
    "With that being said, U.S. senators (and other congresspeople) often have access to information about upcoming policies or laws before the general public, yet are still allowed to trade stocks. More recently, a few senators have been investigated by the SEC for insider trading using knowledge given to them about the COVID-19 pandemic. \n",
    "\n",
    "This tutorial aims to identify potential insider trading, or suspicious trades, by U.S. senators. We will be using data from https://senatestockwatcher.com/, which itself compiles data from https://efdsearch.senate.gov/. Senate stock watcher aggregates financial disclosures from all senators into one nice dataset."
   ],
   "cell_type": "markdown",
   "metadata": {}
  },
  {
   "source": [
    "Let's first start by downloading the dataset. While Senate Stock Watcher provides an API for up to date datasets, we can just download a csv file as well. Download the \"All Transactions\" csv file from https://senatestockwatcher.com/api.html.\n",
    "\n",
    "Let's load that into a pandas dataframe."
   ],
   "cell_type": "markdown",
   "metadata": {}
  },
  {
   "cell_type": "code",
   "execution_count": 22,
   "metadata": {},
   "outputs": [
    {
     "output_type": "execute_result",
     "data": {
      "text/plain": [
       "  transaction_date   owner ticker  \\\n",
       "0       10/13/2020   Joint     --   \n",
       "1       10/09/2020    Self    FTV   \n",
       "2       04/05/2019  Spouse    NVS   \n",
       "3       10/16/2020   Child   NVDA   \n",
       "4       10/16/2020   Child   WDAY   \n",
       "\n",
       "                                   asset_description      asset_type  \\\n",
       "0  XEROX CORP <div class=\"text-muted\"><em>Rate/Co...  Corporate Bond   \n",
       "1  Fortive Corporation (Exchanged) <br> Vontier C...           Stock   \n",
       "2                                        Novartis AG           Stock   \n",
       "3                                 NVIDIA Corporation           Stock   \n",
       "4                                      Workday, Inc.           Stock   \n",
       "\n",
       "          type            amount  \\\n",
       "0  Sale (Full)  $1,001 - $15,000   \n",
       "1     Exchange  $1,001 - $15,000   \n",
       "2  Sale (Full)  $1,001 - $15,000   \n",
       "3     Purchase  $1,001 - $15,000   \n",
       "4     Purchase  $1,001 - $15,000   \n",
       "\n",
       "                                             comment             senator  \\\n",
       "0                                        Called bond  Sheldon Whitehouse   \n",
       "1                                                 --  Sheldon Whitehouse   \n",
       "2                                                 --     William Cassidy   \n",
       "3  Underlying asset of Fidelity Brokerage - Depen...         Ron L Wyden   \n",
       "4  Underlying asset of Fidelity Brokerage - Depen...         Ron L Wyden   \n",
       "\n",
       "                                            ptr_link  \n",
       "0  https://efdsearch.senate.gov/search/view/ptr/d...  \n",
       "1  https://efdsearch.senate.gov/search/view/ptr/d...  \n",
       "2  https://efdsearch.senate.gov/search/view/ptr/7...  \n",
       "3  https://efdsearch.senate.gov/search/view/ptr/4...  \n",
       "4  https://efdsearch.senate.gov/search/view/ptr/4...  "
      ],
      "text/html": "<div>\n<style scoped>\n    .dataframe tbody tr th:only-of-type {\n        vertical-align: middle;\n    }\n\n    .dataframe tbody tr th {\n        vertical-align: top;\n    }\n\n    .dataframe thead th {\n        text-align: right;\n    }\n</style>\n<table border=\"1\" class=\"dataframe\">\n  <thead>\n    <tr style=\"text-align: right;\">\n      <th></th>\n      <th>transaction_date</th>\n      <th>owner</th>\n      <th>ticker</th>\n      <th>asset_description</th>\n      <th>asset_type</th>\n      <th>type</th>\n      <th>amount</th>\n      <th>comment</th>\n      <th>senator</th>\n      <th>ptr_link</th>\n    </tr>\n  </thead>\n  <tbody>\n    <tr>\n      <th>0</th>\n      <td>10/13/2020</td>\n      <td>Joint</td>\n      <td>--</td>\n      <td>XEROX CORP &lt;div class=\"text-muted\"&gt;&lt;em&gt;Rate/Co...</td>\n      <td>Corporate Bond</td>\n      <td>Sale (Full)</td>\n      <td>$1,001 - $15,000</td>\n      <td>Called bond</td>\n      <td>Sheldon Whitehouse</td>\n      <td>https://efdsearch.senate.gov/search/view/ptr/d...</td>\n    </tr>\n    <tr>\n      <th>1</th>\n      <td>10/09/2020</td>\n      <td>Self</td>\n      <td>FTV</td>\n      <td>Fortive Corporation (Exchanged) &lt;br&gt; Vontier C...</td>\n      <td>Stock</td>\n      <td>Exchange</td>\n      <td>$1,001 - $15,000</td>\n      <td>--</td>\n      <td>Sheldon Whitehouse</td>\n      <td>https://efdsearch.senate.gov/search/view/ptr/d...</td>\n    </tr>\n    <tr>\n      <th>2</th>\n      <td>04/05/2019</td>\n      <td>Spouse</td>\n      <td>NVS</td>\n      <td>Novartis AG</td>\n      <td>Stock</td>\n      <td>Sale (Full)</td>\n      <td>$1,001 - $15,000</td>\n      <td>--</td>\n      <td>William Cassidy</td>\n      <td>https://efdsearch.senate.gov/search/view/ptr/7...</td>\n    </tr>\n    <tr>\n      <th>3</th>\n      <td>10/16/2020</td>\n      <td>Child</td>\n      <td>NVDA</td>\n      <td>NVIDIA Corporation</td>\n      <td>Stock</td>\n      <td>Purchase</td>\n      <td>$1,001 - $15,000</td>\n      <td>Underlying asset of Fidelity Brokerage - Depen...</td>\n      <td>Ron L Wyden</td>\n      <td>https://efdsearch.senate.gov/search/view/ptr/4...</td>\n    </tr>\n    <tr>\n      <th>4</th>\n      <td>10/16/2020</td>\n      <td>Child</td>\n      <td>WDAY</td>\n      <td>Workday, Inc.</td>\n      <td>Stock</td>\n      <td>Purchase</td>\n      <td>$1,001 - $15,000</td>\n      <td>Underlying asset of Fidelity Brokerage - Depen...</td>\n      <td>Ron L Wyden</td>\n      <td>https://efdsearch.senate.gov/search/view/ptr/4...</td>\n    </tr>\n  </tbody>\n</table>\n</div>"
     },
     "metadata": {},
     "execution_count": 22
    }
   ],
   "source": [
    "import pandas as pd\n",
    "\n",
    "df = pd.read_csv('all_transactions.csv')\n",
    "df.head()"
   ]
  },
  {
   "source": [
    "Let's limit this to stocks only, purchases and exchanges only."
   ],
   "cell_type": "markdown",
   "metadata": {}
  },
  {
   "source": [
    "df = df[df['asset_type'] == 'Stock']\n",
    "\n",
    "# Turn transaction_date into datetime\n",
    "df['transaction_date'] = pd.to_datetime(df['transaction_date'])\n",
    "\n",
    "# Remove (Full) and (Partial) after Sale type\n",
    "df['type'] = df['type'].apply(lambda x: x.split()[0])\n",
    "\n",
    "# Limit to only purchases and sales\n",
    "df = df[(df['type'] == 'Purchase') | (df['type'] == 'Sale')]\n",
    "df.head()"
   ],
   "cell_type": "code",
   "metadata": {},
   "execution_count": 23,
   "outputs": [
    {
     "output_type": "execute_result",
     "data": {
      "text/plain": [
       "  transaction_date   owner ticker   asset_description asset_type      type  \\\n",
       "2       2019-04-05  Spouse    NVS         Novartis AG      Stock      Sale   \n",
       "3       2020-10-16   Child   NVDA  NVIDIA Corporation      Stock  Purchase   \n",
       "4       2020-10-16   Child   WDAY       Workday, Inc.      Stock  Purchase   \n",
       "5       2020-10-16   Child   NVDA  NVIDIA Corporation      Stock  Purchase   \n",
       "6       2020-10-16   Child   WDAY       Workday, Inc.      Stock  Purchase   \n",
       "\n",
       "             amount                                            comment  \\\n",
       "2  $1,001 - $15,000                                                 --   \n",
       "3  $1,001 - $15,000  Underlying asset of Fidelity Brokerage - Depen...   \n",
       "4  $1,001 - $15,000  Underlying asset of Fidelity Brokerage - Depen...   \n",
       "5  $1,001 - $15,000  Underlying asset of Fidelity Brokerage - Depen...   \n",
       "6  $1,001 - $15,000  Underlying asset of Fidelity Brokerage - Depen...   \n",
       "\n",
       "           senator                                           ptr_link  \n",
       "2  William Cassidy  https://efdsearch.senate.gov/search/view/ptr/7...  \n",
       "3      Ron L Wyden  https://efdsearch.senate.gov/search/view/ptr/4...  \n",
       "4      Ron L Wyden  https://efdsearch.senate.gov/search/view/ptr/4...  \n",
       "5      Ron L Wyden  https://efdsearch.senate.gov/search/view/ptr/4...  \n",
       "6      Ron L Wyden  https://efdsearch.senate.gov/search/view/ptr/4...  "
      ],
      "text/html": "<div>\n<style scoped>\n    .dataframe tbody tr th:only-of-type {\n        vertical-align: middle;\n    }\n\n    .dataframe tbody tr th {\n        vertical-align: top;\n    }\n\n    .dataframe thead th {\n        text-align: right;\n    }\n</style>\n<table border=\"1\" class=\"dataframe\">\n  <thead>\n    <tr style=\"text-align: right;\">\n      <th></th>\n      <th>transaction_date</th>\n      <th>owner</th>\n      <th>ticker</th>\n      <th>asset_description</th>\n      <th>asset_type</th>\n      <th>type</th>\n      <th>amount</th>\n      <th>comment</th>\n      <th>senator</th>\n      <th>ptr_link</th>\n    </tr>\n  </thead>\n  <tbody>\n    <tr>\n      <th>2</th>\n      <td>2019-04-05</td>\n      <td>Spouse</td>\n      <td>NVS</td>\n      <td>Novartis AG</td>\n      <td>Stock</td>\n      <td>Sale</td>\n      <td>$1,001 - $15,000</td>\n      <td>--</td>\n      <td>William Cassidy</td>\n      <td>https://efdsearch.senate.gov/search/view/ptr/7...</td>\n    </tr>\n    <tr>\n      <th>3</th>\n      <td>2020-10-16</td>\n      <td>Child</td>\n      <td>NVDA</td>\n      <td>NVIDIA Corporation</td>\n      <td>Stock</td>\n      <td>Purchase</td>\n      <td>$1,001 - $15,000</td>\n      <td>Underlying asset of Fidelity Brokerage - Depen...</td>\n      <td>Ron L Wyden</td>\n      <td>https://efdsearch.senate.gov/search/view/ptr/4...</td>\n    </tr>\n    <tr>\n      <th>4</th>\n      <td>2020-10-16</td>\n      <td>Child</td>\n      <td>WDAY</td>\n      <td>Workday, Inc.</td>\n      <td>Stock</td>\n      <td>Purchase</td>\n      <td>$1,001 - $15,000</td>\n      <td>Underlying asset of Fidelity Brokerage - Depen...</td>\n      <td>Ron L Wyden</td>\n      <td>https://efdsearch.senate.gov/search/view/ptr/4...</td>\n    </tr>\n    <tr>\n      <th>5</th>\n      <td>2020-10-16</td>\n      <td>Child</td>\n      <td>NVDA</td>\n      <td>NVIDIA Corporation</td>\n      <td>Stock</td>\n      <td>Purchase</td>\n      <td>$1,001 - $15,000</td>\n      <td>Underlying asset of Fidelity Brokerage - Depen...</td>\n      <td>Ron L Wyden</td>\n      <td>https://efdsearch.senate.gov/search/view/ptr/4...</td>\n    </tr>\n    <tr>\n      <th>6</th>\n      <td>2020-10-16</td>\n      <td>Child</td>\n      <td>WDAY</td>\n      <td>Workday, Inc.</td>\n      <td>Stock</td>\n      <td>Purchase</td>\n      <td>$1,001 - $15,000</td>\n      <td>Underlying asset of Fidelity Brokerage - Depen...</td>\n      <td>Ron L Wyden</td>\n      <td>https://efdsearch.senate.gov/search/view/ptr/4...</td>\n    </tr>\n  </tbody>\n</table>\n</div>"
     },
     "metadata": {},
     "execution_count": 23
    }
   ]
  },
  {
   "source": [
    "We got our senator stock trading data, but now we need actual historical market data to visualize these trades. Let's use yfinance, a python Yahoo! Finance library, to get historical market data on SPY, an ETF tracking the S&P500."
   ],
   "cell_type": "markdown",
   "metadata": {}
  },
  {
   "cell_type": "code",
   "execution_count": 24,
   "metadata": {},
   "outputs": [
    {
     "output_type": "execute_result",
     "data": {
      "text/plain": [
       "                  Open        High         Low       Close    Volume  \\\n",
       "Date                                                                   \n",
       "2020-11-20  357.500000  357.720001  355.250000  355.329987  70417300   \n",
       "2020-11-23  357.279999  358.820007  354.869995  357.459991  63230600   \n",
       "2020-11-24  360.209991  363.809998  359.290009  363.220001  62415900   \n",
       "2020-11-25  363.130005  363.160004  361.480011  362.660004  45330900   \n",
       "2020-11-27  363.839996  364.179993  362.579987  363.670013  28514100   \n",
       "\n",
       "            Dividends  Stock Splits  \n",
       "Date                                 \n",
       "2020-11-20        0.0             0  \n",
       "2020-11-23        0.0             0  \n",
       "2020-11-24        0.0             0  \n",
       "2020-11-25        0.0             0  \n",
       "2020-11-27        0.0             0  "
      ],
      "text/html": "<div>\n<style scoped>\n    .dataframe tbody tr th:only-of-type {\n        vertical-align: middle;\n    }\n\n    .dataframe tbody tr th {\n        vertical-align: top;\n    }\n\n    .dataframe thead th {\n        text-align: right;\n    }\n</style>\n<table border=\"1\" class=\"dataframe\">\n  <thead>\n    <tr style=\"text-align: right;\">\n      <th></th>\n      <th>Open</th>\n      <th>High</th>\n      <th>Low</th>\n      <th>Close</th>\n      <th>Volume</th>\n      <th>Dividends</th>\n      <th>Stock Splits</th>\n    </tr>\n    <tr>\n      <th>Date</th>\n      <th></th>\n      <th></th>\n      <th></th>\n      <th></th>\n      <th></th>\n      <th></th>\n      <th></th>\n    </tr>\n  </thead>\n  <tbody>\n    <tr>\n      <th>2020-11-20</th>\n      <td>357.500000</td>\n      <td>357.720001</td>\n      <td>355.250000</td>\n      <td>355.329987</td>\n      <td>70417300</td>\n      <td>0.0</td>\n      <td>0</td>\n    </tr>\n    <tr>\n      <th>2020-11-23</th>\n      <td>357.279999</td>\n      <td>358.820007</td>\n      <td>354.869995</td>\n      <td>357.459991</td>\n      <td>63230600</td>\n      <td>0.0</td>\n      <td>0</td>\n    </tr>\n    <tr>\n      <th>2020-11-24</th>\n      <td>360.209991</td>\n      <td>363.809998</td>\n      <td>359.290009</td>\n      <td>363.220001</td>\n      <td>62415900</td>\n      <td>0.0</td>\n      <td>0</td>\n    </tr>\n    <tr>\n      <th>2020-11-25</th>\n      <td>363.130005</td>\n      <td>363.160004</td>\n      <td>361.480011</td>\n      <td>362.660004</td>\n      <td>45330900</td>\n      <td>0.0</td>\n      <td>0</td>\n    </tr>\n    <tr>\n      <th>2020-11-27</th>\n      <td>363.839996</td>\n      <td>364.179993</td>\n      <td>362.579987</td>\n      <td>363.670013</td>\n      <td>28514100</td>\n      <td>0.0</td>\n      <td>0</td>\n    </tr>\n  </tbody>\n</table>\n</div>"
     },
     "metadata": {},
     "execution_count": 24
    }
   ],
   "source": [
    "import yfinance as yf\n",
    "\n",
    "spy = yf.Ticker('SPY')\n",
    "spy_hist = spy.history(period='max')\n",
    "spy_hist.tail()"
   ]
  },
  {
   "source": [
    "Neat! Now we can start putting these two things together."
   ],
   "cell_type": "markdown",
   "metadata": {}
  },
  {
   "source": [
    "<h2>Data Processing and Visualization</h2>\n",
    "\n",
    "Let's first aggregate all the senator trading data together, and find the overall trading performance of the senate. We should somehow plot overall senator trading performance against the S&P500.\n",
    "\n",
    "<h3>Senator Data</h3>\n",
    "\n",
    "It's a little tough to track performance exactly. The size of each trade isn't an exact number -- it's a range. Let's check out what kinds of values we're working with here."
   ],
   "cell_type": "markdown",
   "metadata": {}
  },
  {
   "cell_type": "code",
   "execution_count": 27,
   "metadata": {},
   "outputs": [
    {
     "output_type": "execute_result",
     "data": {
      "text/plain": [
       "array(['$1,001 - $15,000', '$15,001 - $50,000', '$50,001 - $100,000',\n",
       "       '$100,001 - $250,000', '$5,000,001 - $25,000,000',\n",
       "       '$1,000,001 - $5,000,000', '$250,001 - $500,000',\n",
       "       '$500,001 - $1,000,000', 'Over $50,000,000',\n",
       "       '$25,000,001 - $50,000,000'], dtype=object)"
      ]
     },
     "metadata": {},
     "execution_count": 27
    }
   ],
   "source": [
    "df['amount'].unique()"
   ]
  },
  {
   "source": [
    "Yikes. The data is not very granular, but the best thing we can probably do is get the lower bound, upper bound, and middle value of each trade."
   ],
   "cell_type": "markdown",
   "metadata": {}
  },
  {
   "source": [
    "# Returns a tuple of (lower bound, middle, upper bound) for the given category\n",
    "def getBounds(amount):\n",
    "    \n",
    "    # This amount shows up once in the entire dataset. Let's just assume the trade is $50m for now. It won't affect our analysis too much.\n",
    "    if amount == 'Over $50,000,000':\n",
    "        return (5e7, 5e7, 5e7)\n",
    "    \n",
    "    split = amount.split(' - ')\n",
    "    lower = int(split[0][1:].replace(',', ''))\n",
    "    upper = int(split[1][1:].replace(',', ''))\n",
    "    mid = lower + ((upper - lower) / 2)\n",
    "\n",
    "    return (lower, mid, upper)\n",
    "\n",
    "bounds = df['amount'].apply(getBounds)\n",
    "\n",
    "\n",
    "# df['lower_amount'] = df['amount'].apply\n",
    "df[['lower_amt', 'mid_amt', 'upper_amt']] = bounds.tolist()\n"
   ],
   "cell_type": "code",
   "metadata": {},
   "execution_count": 35,
   "outputs": [
    {
     "output_type": "error",
     "ename": "KeyError",
     "evalue": "\"None of [Index(['lower_amt', 'mid_amt', 'upper_amt'], dtype='object')] are in the [columns]\"",
     "traceback": [
      "\u001b[1;31m---------------------------------------------------------------------------\u001b[0m",
      "\u001b[1;31mKeyError\u001b[0m                                  Traceback (most recent call last)",
      "\u001b[1;32m<ipython-input-35-021b706df281>\u001b[0m in \u001b[0;36m<module>\u001b[1;34m\u001b[0m\n\u001b[0;32m     17\u001b[0m \u001b[1;33m\u001b[0m\u001b[0m\n\u001b[0;32m     18\u001b[0m \u001b[1;31m# df['lower_amount'] = df['amount'].apply\u001b[0m\u001b[1;33m\u001b[0m\u001b[1;33m\u001b[0m\u001b[1;33m\u001b[0m\u001b[0m\n\u001b[1;32m---> 19\u001b[1;33m \u001b[0mdf\u001b[0m\u001b[1;33m[\u001b[0m\u001b[1;33m[\u001b[0m\u001b[1;34m'lower_amt'\u001b[0m\u001b[1;33m,\u001b[0m \u001b[1;34m'mid_amt'\u001b[0m\u001b[1;33m,\u001b[0m \u001b[1;34m'upper_amt'\u001b[0m\u001b[1;33m]\u001b[0m\u001b[1;33m]\u001b[0m \u001b[1;33m=\u001b[0m \u001b[0mbounds\u001b[0m\u001b[1;33m.\u001b[0m\u001b[0mtolist\u001b[0m\u001b[1;33m(\u001b[0m\u001b[1;33m)\u001b[0m\u001b[1;33m\u001b[0m\u001b[1;33m\u001b[0m\u001b[0m\n\u001b[0m",
      "\u001b[1;32mC:\\ProgramData\\Anaconda3\\lib\\site-packages\\pandas\\core\\frame.py\u001b[0m in \u001b[0;36m__setitem__\u001b[1;34m(self, key, value)\u001b[0m\n\u001b[0;32m   2933\u001b[0m             \u001b[0mself\u001b[0m\u001b[1;33m.\u001b[0m\u001b[0m_setitem_frame\u001b[0m\u001b[1;33m(\u001b[0m\u001b[0mkey\u001b[0m\u001b[1;33m,\u001b[0m \u001b[0mvalue\u001b[0m\u001b[1;33m)\u001b[0m\u001b[1;33m\u001b[0m\u001b[1;33m\u001b[0m\u001b[0m\n\u001b[0;32m   2934\u001b[0m         \u001b[1;32melif\u001b[0m \u001b[0misinstance\u001b[0m\u001b[1;33m(\u001b[0m\u001b[0mkey\u001b[0m\u001b[1;33m,\u001b[0m \u001b[1;33m(\u001b[0m\u001b[0mSeries\u001b[0m\u001b[1;33m,\u001b[0m \u001b[0mnp\u001b[0m\u001b[1;33m.\u001b[0m\u001b[0mndarray\u001b[0m\u001b[1;33m,\u001b[0m \u001b[0mlist\u001b[0m\u001b[1;33m,\u001b[0m \u001b[0mIndex\u001b[0m\u001b[1;33m)\u001b[0m\u001b[1;33m)\u001b[0m\u001b[1;33m:\u001b[0m\u001b[1;33m\u001b[0m\u001b[1;33m\u001b[0m\u001b[0m\n\u001b[1;32m-> 2935\u001b[1;33m             \u001b[0mself\u001b[0m\u001b[1;33m.\u001b[0m\u001b[0m_setitem_array\u001b[0m\u001b[1;33m(\u001b[0m\u001b[0mkey\u001b[0m\u001b[1;33m,\u001b[0m \u001b[0mvalue\u001b[0m\u001b[1;33m)\u001b[0m\u001b[1;33m\u001b[0m\u001b[1;33m\u001b[0m\u001b[0m\n\u001b[0m\u001b[0;32m   2936\u001b[0m         \u001b[1;32melse\u001b[0m\u001b[1;33m:\u001b[0m\u001b[1;33m\u001b[0m\u001b[1;33m\u001b[0m\u001b[0m\n\u001b[0;32m   2937\u001b[0m             \u001b[1;31m# set column\u001b[0m\u001b[1;33m\u001b[0m\u001b[1;33m\u001b[0m\u001b[1;33m\u001b[0m\u001b[0m\n",
      "\u001b[1;32mC:\\ProgramData\\Anaconda3\\lib\\site-packages\\pandas\\core\\frame.py\u001b[0m in \u001b[0;36m_setitem_array\u001b[1;34m(self, key, value)\u001b[0m\n\u001b[0;32m   2963\u001b[0m                     \u001b[0mself\u001b[0m\u001b[1;33m[\u001b[0m\u001b[0mk1\u001b[0m\u001b[1;33m]\u001b[0m \u001b[1;33m=\u001b[0m \u001b[0mvalue\u001b[0m\u001b[1;33m[\u001b[0m\u001b[0mk2\u001b[0m\u001b[1;33m]\u001b[0m\u001b[1;33m\u001b[0m\u001b[1;33m\u001b[0m\u001b[0m\n\u001b[0;32m   2964\u001b[0m             \u001b[1;32melse\u001b[0m\u001b[1;33m:\u001b[0m\u001b[1;33m\u001b[0m\u001b[1;33m\u001b[0m\u001b[0m\n\u001b[1;32m-> 2965\u001b[1;33m                 indexer = self.loc._get_listlike_indexer(\n\u001b[0m\u001b[0;32m   2966\u001b[0m                     \u001b[0mkey\u001b[0m\u001b[1;33m,\u001b[0m \u001b[0maxis\u001b[0m\u001b[1;33m=\u001b[0m\u001b[1;36m1\u001b[0m\u001b[1;33m,\u001b[0m \u001b[0mraise_missing\u001b[0m\u001b[1;33m=\u001b[0m\u001b[1;32mFalse\u001b[0m\u001b[1;33m\u001b[0m\u001b[1;33m\u001b[0m\u001b[0m\n\u001b[0;32m   2967\u001b[0m                 )[1]\n",
      "\u001b[1;32mC:\\ProgramData\\Anaconda3\\lib\\site-packages\\pandas\\core\\indexing.py\u001b[0m in \u001b[0;36m_get_listlike_indexer\u001b[1;34m(self, key, axis, raise_missing)\u001b[0m\n\u001b[0;32m   1550\u001b[0m             \u001b[0mkeyarr\u001b[0m\u001b[1;33m,\u001b[0m \u001b[0mindexer\u001b[0m\u001b[1;33m,\u001b[0m \u001b[0mnew_indexer\u001b[0m \u001b[1;33m=\u001b[0m \u001b[0max\u001b[0m\u001b[1;33m.\u001b[0m\u001b[0m_reindex_non_unique\u001b[0m\u001b[1;33m(\u001b[0m\u001b[0mkeyarr\u001b[0m\u001b[1;33m)\u001b[0m\u001b[1;33m\u001b[0m\u001b[1;33m\u001b[0m\u001b[0m\n\u001b[0;32m   1551\u001b[0m \u001b[1;33m\u001b[0m\u001b[0m\n\u001b[1;32m-> 1552\u001b[1;33m         self._validate_read_indexer(\n\u001b[0m\u001b[0;32m   1553\u001b[0m             \u001b[0mkeyarr\u001b[0m\u001b[1;33m,\u001b[0m \u001b[0mindexer\u001b[0m\u001b[1;33m,\u001b[0m \u001b[0mo\u001b[0m\u001b[1;33m.\u001b[0m\u001b[0m_get_axis_number\u001b[0m\u001b[1;33m(\u001b[0m\u001b[0maxis\u001b[0m\u001b[1;33m)\u001b[0m\u001b[1;33m,\u001b[0m \u001b[0mraise_missing\u001b[0m\u001b[1;33m=\u001b[0m\u001b[0mraise_missing\u001b[0m\u001b[1;33m\u001b[0m\u001b[1;33m\u001b[0m\u001b[0m\n\u001b[0;32m   1554\u001b[0m         )\n",
      "\u001b[1;32mC:\\ProgramData\\Anaconda3\\lib\\site-packages\\pandas\\core\\indexing.py\u001b[0m in \u001b[0;36m_validate_read_indexer\u001b[1;34m(self, key, indexer, axis, raise_missing)\u001b[0m\n\u001b[0;32m   1638\u001b[0m             \u001b[1;32mif\u001b[0m \u001b[0mmissing\u001b[0m \u001b[1;33m==\u001b[0m \u001b[0mlen\u001b[0m\u001b[1;33m(\u001b[0m\u001b[0mindexer\u001b[0m\u001b[1;33m)\u001b[0m\u001b[1;33m:\u001b[0m\u001b[1;33m\u001b[0m\u001b[1;33m\u001b[0m\u001b[0m\n\u001b[0;32m   1639\u001b[0m                 \u001b[0maxis_name\u001b[0m \u001b[1;33m=\u001b[0m \u001b[0mself\u001b[0m\u001b[1;33m.\u001b[0m\u001b[0mobj\u001b[0m\u001b[1;33m.\u001b[0m\u001b[0m_get_axis_name\u001b[0m\u001b[1;33m(\u001b[0m\u001b[0maxis\u001b[0m\u001b[1;33m)\u001b[0m\u001b[1;33m\u001b[0m\u001b[1;33m\u001b[0m\u001b[0m\n\u001b[1;32m-> 1640\u001b[1;33m                 \u001b[1;32mraise\u001b[0m \u001b[0mKeyError\u001b[0m\u001b[1;33m(\u001b[0m\u001b[1;34mf\"None of [{key}] are in the [{axis_name}]\"\u001b[0m\u001b[1;33m)\u001b[0m\u001b[1;33m\u001b[0m\u001b[1;33m\u001b[0m\u001b[0m\n\u001b[0m\u001b[0;32m   1641\u001b[0m \u001b[1;33m\u001b[0m\u001b[0m\n\u001b[0;32m   1642\u001b[0m             \u001b[1;31m# We (temporarily) allow for some missing keys with .loc, except in\u001b[0m\u001b[1;33m\u001b[0m\u001b[1;33m\u001b[0m\u001b[1;33m\u001b[0m\u001b[0m\n",
      "\u001b[1;31mKeyError\u001b[0m: \"None of [Index(['lower_amt', 'mid_amt', 'upper_amt'], dtype='object')] are in the [columns]\""
     ]
    }
   ]
  },
  {
   "cell_type": "code",
   "execution_count": 26,
   "metadata": {},
   "outputs": [
    {
     "output_type": "execute_result",
     "data": {
      "text/plain": [
       "transaction_date  type    \n",
       "2012-09-13        Purchase    1\n",
       "2012-12-17        Purchase    1\n",
       "2013-03-15        Purchase    1\n",
       "2013-06-13        Purchase    1\n",
       "2013-09-13        Purchase    1\n",
       "                             ..\n",
       "2020-09-23        Sale        1\n",
       "2020-09-24        Purchase    1\n",
       "2020-09-30        Sale        2\n",
       "2020-10-13        Sale        2\n",
       "2020-10-16        Purchase    6\n",
       "Length: 1891, dtype: int64"
      ]
     },
     "metadata": {},
     "execution_count": 26
    }
   ],
   "source": [
    "df.groupby(['transaction_date', 'type']).size()"
   ]
  },
  {
   "source": [],
   "cell_type": "markdown",
   "metadata": {}
  }
 ]
}